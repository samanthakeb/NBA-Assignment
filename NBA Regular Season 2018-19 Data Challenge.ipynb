{
 "cells": [
  {
   "cell_type": "markdown",
   "metadata": {},
   "source": [
    "# Nba Regular Season 2018-19 Data Challenge\n",
    "\n",
    "Your task will be to take the dataset given, and create an analysis answering the following 10 questions. This project will again test your knowledge of pandas in order to find the answers needed given the data you are presented with."
   ]
  },
  {
   "cell_type": "markdown",
   "metadata": {},
   "source": [
    "# What was the average age of player in the league?"
   ]
  },
  {
   "cell_type": "code",
   "execution_count": 3,
   "metadata": {},
   "outputs": [
    {
     "name": "stdout",
     "output_type": "stream",
     "text": [
      "The average age of players in the league is 25.900191938579656\n"
     ]
    }
   ],
   "source": [
    "import pandas as pd\n",
    "nba = pd.read_csv('C:\\\\Users\\\\saman\\\\OneDrive\\\\Documents\\\\Coding Temple Work\\\\nbastats2018-2019 - nbastats2018-2019.csv')\n",
    "\n",
    "age = nba['Age']\n",
    "\n",
    "average_age = age.mean()\n",
    "\n",
    "print(f\"The average age of players in the league is {average_age}\")"
   ]
  },
  {
   "cell_type": "markdown",
   "metadata": {},
   "source": [
    "# What player scored the most points?"
   ]
  },
  {
   "cell_type": "code",
   "execution_count": 4,
   "metadata": {},
   "outputs": [
    {
     "name": "stdout",
     "output_type": "stream",
     "text": [
      "The player who scored the most points is Name           James Harden\n",
      "Height                   77\n",
      "Weight                  220\n",
      "Team        Houston Rockets\n",
      "Age                      29\n",
      "Salary             30431854\n",
      "Points                 36.1\n",
      "Blocks                  0.7\n",
      "Steals                  2.0\n",
      "Assists                 7.5\n",
      "Rebounds                6.6\n",
      "FT%                   0.879\n",
      "FTA                    11.0\n",
      "FG3%                  0.368\n",
      "FG3A                   13.2\n",
      "FG%                   0.442\n",
      "FGA                    24.5\n",
      "MP                     36.8\n",
      "G                        78\n",
      "PER                    30.6\n",
      "OWS                    11.4\n",
      "DWS                     3.8\n",
      "WS                     15.2\n",
      "WS48                  0.254\n",
      "USG                    40.5\n",
      "BPM                    11.7\n",
      "VORP                    9.9\n",
      "Name: 202, dtype: object\n"
     ]
    }
   ],
   "source": [
    "most_points = nba.loc[nba['Points'].idxmax()]\n",
    "\n",
    "print(f\"The player who scored the most points is {most_points}\")"
   ]
  },
  {
   "cell_type": "markdown",
   "metadata": {},
   "source": [
    "# What player had the most blocks during the season? Was it a post player (F/C)?"
   ]
  },
  {
   "cell_type": "code",
   "execution_count": 5,
   "metadata": {},
   "outputs": [
    {
     "name": "stdout",
     "output_type": "stream",
     "text": [
      "The player with the most blocks is Name          Myles Turner\n",
      "Height                  83\n",
      "Weight                 250\n",
      "Team        Indiana Pacers\n",
      "Age                     22\n",
      "Salary             3410284\n",
      "Points                13.3\n",
      "Blocks                 2.7\n",
      "Steals                 0.8\n",
      "Assists                1.6\n",
      "Rebounds               7.2\n",
      "FT%                  0.736\n",
      "FTA                    2.7\n",
      "FG3%                 0.388\n",
      "FG3A                   2.6\n",
      "FG%                  0.487\n",
      "FGA                   10.5\n",
      "MP                    28.6\n",
      "G                       74\n",
      "PER                   18.0\n",
      "OWS                    1.9\n",
      "DWS                    4.4\n",
      "WS                     6.3\n",
      "WS48                 0.144\n",
      "USG                   20.0\n",
      "BPM                    3.3\n",
      "VORP                   2.8\n",
      "Name: 476, dtype: object\n"
     ]
    }
   ],
   "source": [
    "most_blocks = nba.loc[nba['Blocks'].idxmax()]\n",
    "print(f\"The player with the most blocks is {most_blocks}\")"
   ]
  },
  {
   "cell_type": "markdown",
   "metadata": {},
   "source": [
    "# Based on the regular season, who had the best chance to win a title given their win percentage?"
   ]
  },
  {
   "cell_type": "code",
   "execution_count": 17,
   "metadata": {},
   "outputs": [
    {
     "name": "stdout",
     "output_type": "stream",
     "text": [
      "The team that scored the most points per game is                    Name  Height  Weight                    Team  Age  \\\n",
      "17      Carmelo Anthony      80     240           Atlanta Hawks   34   \n",
      "247   Demetrius Jackson      73     201          Boston Celtics   24   \n",
      "325      Tahjere McCall      77     195           Brooklyn Nets   24   \n",
      "486        Kemba Walker      73     184       Charlotte Hornets   28   \n",
      "428      JaKarr Sampson      81     214           Chicago Bulls   25   \n",
      "305          Kevin Love      82     251     Cleveland Cavaliers   30   \n",
      "138         Luka Doncic      79     218        Dallas Mavericks   19   \n",
      "464       Isaiah Thomas      69     185          Denver Nuggets   29   \n",
      "198       Blake Griffin      82     250         Detroit Pistons   29   \n",
      "112    DeMarcus Cousins      83     270   Golden State Warriors   28   \n",
      "268      Terrence Jones      81     252         Houston Rockets   27   \n",
      "381      Victor Oladipo      76     210          Indiana Pacers   26   \n",
      "324    Luc Mbah a Moute      80     230    Los Angeles Clippers   32   \n",
      "312       Scott Machado      73     205      Los Angeles Lakers   28   \n",
      "200       Dusty Hannahs      75     210       Memphis Grizzlies   25   \n",
      "142        Goran Dragic      75     190              Miami Heat   32   \n",
      "335         Jodie Meeks      76     210         Milwaukee Bucks   31   \n",
      "113    Robert Covington      81     225  Minnesota Timberwolves   28   \n",
      "123       Anthony Davis      82     253    New Orleans Pelicans   25   \n",
      "445    Dennis Smith Jr.      75     195         New York Knicks   21   \n",
      "179         Paul George      81     220   Oklahoma City Thunder   28   \n",
      "172      Markelle Fultz      76     200           Orlando Magic   20   \n",
      "449        Zhaire Smith      76     199      Philadelphia 76ers   19   \n",
      "462       Emanuel Terry      81     220            Phoenix Suns   22   \n",
      "299      Damian Lillard      75     195  Portland Trail Blazers   28   \n",
      "124       Deyonta Davis      83     237        Sacramento Kings   22   \n",
      "356  Donatas Motiejunas      84     222       San Antonio Spurs   28   \n",
      "295       Kawhi Leonard      79     230         Toronto Raptors   27   \n",
      "61         Tony Bradley      82     248               Utah Jazz   21   \n",
      "233       Dwight Howard      83     265      Washington Wizards   33   \n",
      "\n",
      "         Salary  Points  Blocks  Steals  Assists  ...   PER  OWS  DWS    WS  \\\n",
      "17   25534253.0    13.4     0.7     0.4      0.5  ...  10.9  0.1  0.2   0.3   \n",
      "247     92857.0     3.7     0.0     0.3      0.8  ...  21.0  0.2  0.0   0.2   \n",
      "325     47371.0     4.0     0.0     0.0      0.0  ...   9.6  0.0  0.0   0.0   \n",
      "486  12000000.0    25.6     0.4     1.2      5.9  ...  21.7  5.5  1.9   7.4   \n",
      "428     88531.0    20.0     0.8     1.0      1.0  ...  22.5  0.3  0.1   0.5   \n",
      "305  24119025.0    17.0     0.2     0.3      2.2  ...  19.5  1.0  0.4   1.3   \n",
      "138   6560640.0    21.2     0.3     1.1      6.0  ...  19.6  2.1  2.8   4.9   \n",
      "464   2029463.0     8.1     0.1     0.4      1.9  ...   7.0 -0.4  0.1  -0.3   \n",
      "198  32088932.0    24.5     0.4     0.7      5.4  ...  21.0  5.1  2.9   8.0   \n",
      "112   5337000.0    16.3     1.5     1.3      3.6  ...  21.4  0.9  1.5   2.4   \n",
      "268    198580.0     1.0     0.0     0.0      0.0  ... -15.8 -0.1  0.0  -0.1   \n",
      "381  21000000.0    18.8     0.3     1.7      5.2  ...  17.6  0.4  1.9   2.3   \n",
      "324   4320500.0     5.0     0.3     0.3      0.5  ...   6.7  0.0  0.0   0.0   \n",
      "312     47371.0     2.5     0.0     0.3      0.8  ...  22.2  0.1  0.0   0.1   \n",
      "200     47371.0     4.0     0.0     0.5      2.5  ...   4.5 -0.1  0.0  -0.1   \n",
      "142  18109175.0    13.7     0.1     0.8      4.8  ...  13.9  0.6  1.0   1.6   \n",
      "335   3454500.0     6.4     0.1     0.1      1.0  ...  16.0  0.2  0.1   0.3   \n",
      "113  10464092.0    13.3     1.3     2.1      1.3  ...  13.3  0.9  1.6   2.5   \n",
      "123  25434263.0    25.9     2.4     1.6      3.9  ...  30.3  6.4  3.1   9.5   \n",
      "445   3819960.0    13.6     0.4     1.3      4.8  ...  12.3 -1.2  1.2   0.0   \n",
      "179  30560700.0    28.0     0.4     2.2      4.1  ...  23.3  7.0  4.9  11.9   \n",
      "172   8339880.0     8.2     0.3     0.9      3.1  ...  10.5 -0.1  0.4   0.3   \n",
      "449   2611800.0     6.7     0.3     0.3      1.7  ...   9.5  0.0  0.1   0.1   \n",
      "462     47371.0     3.3     0.0     1.0      0.7  ...  19.7  0.0  0.0   0.1   \n",
      "299  27977689.0    25.8     0.4     1.1      6.9  ...  23.7  9.7  2.4  12.1   \n",
      "124   1544951.0     4.0     0.6     0.3      0.6  ...  15.6  0.3  0.1   0.4   \n",
      "356     59820.0     2.0     0.3     0.0      0.3  ...  -0.5 -0.1  0.0  -0.1   \n",
      "295  23114067.0    26.6     0.4     1.8      3.3  ...  25.8  6.1  3.4   9.5   \n",
      "61    1679520.0     5.7     0.7     0.7      0.3  ...  19.6  0.0  0.1   0.1   \n",
      "233   5337000.0    12.8     0.4     0.8      0.4  ...  17.4  0.4  0.2   0.6   \n",
      "\n",
      "      WS48   USG   BPM  VORP       PPG  Points Per Game  \n",
      "17   0.048  20.5  -5.9  -0.3  1.340000         1.340000  \n",
      "247  0.231  19.1   1.0   0.0  0.616667         0.616667  \n",
      "325  0.055  18.1  -9.8   0.0  4.000000         4.000000  \n",
      "486  0.123  31.5   3.3   3.9  0.312195         0.312195  \n",
      "428  0.173  23.1  -1.5   0.0  5.000000         5.000000  \n",
      "305  0.106  27.4  -1.7   0.0  0.772727         0.772727  \n",
      "138  0.101  30.5   4.1   3.6  0.294444         0.294444  \n",
      "464 -0.077  30.4  -8.7  -0.3  0.675000         0.675000  \n",
      "198  0.147  30.2   4.6   4.4  0.326667         0.326667  \n",
      "112  0.151  28.1   3.6   1.1  0.543333         0.543333  \n",
      "268 -0.661  47.2 -52.3  -0.1  0.500000         0.500000  \n",
      "381  0.097  27.9   2.3   1.3  0.522222         0.522222  \n",
      "324  0.009  15.4  -5.4  -0.1  1.250000         1.250000  \n",
      "312  0.281  14.0  -4.4   0.0  0.625000         0.625000  \n",
      "200 -0.125  23.9 -12.2  -0.1  2.000000         2.000000  \n",
      "142  0.079  23.7  -1.2   0.2  0.380556         0.380556  \n",
      "335  0.153  17.1  -0.8   0.0  0.800000         0.800000  \n",
      "113  0.100  15.6   2.4   1.3  0.380000         0.380000  \n",
      "123  0.247  29.5   8.5   4.9  0.462500         0.462500  \n",
      "445  0.001  24.8  -2.5  -0.2  0.256604         0.256604  \n",
      "179  0.201  29.5   5.5   5.3  0.363636         0.363636  \n",
      "172  0.035  19.3  -3.1  -0.1  0.431579         0.431579  \n",
      "449  0.048  16.4  -4.0  -0.1  1.116667         1.116667  \n",
      "462  0.117  20.1   1.6   0.0  1.100000         1.100000  \n",
      "299  0.205  29.3   5.5   5.4  0.322500         0.322500  \n",
      "124  0.145  10.1  -0.7   0.0  0.444444         0.444444  \n",
      "356 -0.246  33.5 -11.5   0.0  0.666667         0.666667  \n",
      "295  0.224  30.3   5.0   3.6  0.443333         0.443333  \n",
      "61   0.130  23.6  -0.7   0.0  1.900000         1.900000  \n",
      "233  0.124  19.6  -5.2  -0.2  1.422222         1.422222  \n",
      "\n",
      "[30 rows x 29 columns]\n"
     ]
    }
   ],
   "source": [
    "nba['Points Per Game'] = nba['Points'] / nba['G']\n",
    "highest_scoring_team = nba.loc[nba.groupby('Team')['Points Per Game'].idxmax()]\n",
    "\n",
    "print(f\"The team that scored the most points per game is {highest_scoring_team}\")"
   ]
  },
  {
   "cell_type": "markdown",
   "metadata": {},
   "source": [
    "# What player had the best 3-pt percentage? "
   ]
  },
  {
   "cell_type": "code",
   "execution_count": 9,
   "metadata": {},
   "outputs": [
    {
     "name": "stdout",
     "output_type": "stream",
     "text": [
      "The player who had the best 3-pt percentage is Name        Trevon Duval\n",
      "Height                74\n",
      "Weight               189\n",
      "Team                 NaN\n",
      "Age                   20\n",
      "Salary                 -\n",
      "Points               1.7\n",
      "Blocks               0.0\n",
      "Steals               0.0\n",
      "Assists              0.7\n",
      "Rebounds             0.3\n",
      "FT%                  NaN\n",
      "FTA                  0.0\n",
      "FG3%                 1.0\n",
      "FG3A                 0.3\n",
      "FG%                0.667\n",
      "FGA                  1.0\n",
      "MP                   2.0\n",
      "G                      3\n",
      "PER                 38.3\n",
      "OWS                  0.1\n",
      "DWS                  0.0\n",
      "WS                   0.1\n",
      "WS48               0.537\n",
      "USG                 20.9\n",
      "BPM                  9.7\n",
      "VORP                 0.0\n",
      "PPG             0.566667\n",
      "Name: 147, dtype: object\n"
     ]
    }
   ],
   "source": [
    "best_3pt = nba.loc[nba['FG3%'].idxmax()]\n",
    "\n",
    "print(f\"The player who had the best 3-pt percentage is {best_3pt}\")"
   ]
  },
  {
   "cell_type": "markdown",
   "metadata": {},
   "source": [
    "# Who played the most minutes during the season"
   ]
  },
  {
   "cell_type": "code",
   "execution_count": 10,
   "metadata": {},
   "outputs": [
    {
     "name": "stdout",
     "output_type": "stream",
     "text": [
      "The player who played the most minutes is Name              Bradley Beal\n",
      "Height                      77\n",
      "Weight                     207\n",
      "Team        Washington Wizards\n",
      "Age                         25\n",
      "Salary                25434263\n",
      "Points                    25.6\n",
      "Blocks                     0.7\n",
      "Steals                     1.5\n",
      "Assists                    5.5\n",
      "Rebounds                   5.0\n",
      "FT%                      0.808\n",
      "FTA                        5.5\n",
      "FG3%                     0.351\n",
      "FG3A                       7.3\n",
      "FG%                      0.475\n",
      "FGA                       19.6\n",
      "MP                        36.9\n",
      "G                           82\n",
      "PER                       20.8\n",
      "OWS                        5.9\n",
      "DWS                        1.7\n",
      "WS                         7.6\n",
      "WS48                      0.12\n",
      "USG                       28.4\n",
      "BPM                        2.8\n",
      "VORP                       3.7\n",
      "PPG                   0.312195\n",
      "Name: 37, dtype: object\n"
     ]
    }
   ],
   "source": [
    "minutes_played = nba.loc[nba['MP'].idxmax()]\n",
    "\n",
    "print(f\"The player who played the most minutes is {minutes_played}\")"
   ]
  },
  {
   "cell_type": "markdown",
   "metadata": {},
   "source": [
    "# What player given their player effiecency rating was the clutchest during the season?"
   ]
  },
  {
   "cell_type": "code",
   "execution_count": 11,
   "metadata": {},
   "outputs": [
    {
     "name": "stdout",
     "output_type": "stream",
     "text": [
      "The player with the highest Player Efficiency Rating is Name                Zhou Qi\n",
      "Height                   85\n",
      "Weight                  210\n",
      "Team        Houston Rockets\n",
      "Age                      23\n",
      "Salary               506134\n",
      "Points                  2.0\n",
      "Blocks                  0.0\n",
      "Steals                  0.0\n",
      "Assists                 0.0\n",
      "Rebounds                0.0\n",
      "FT%                     NaN\n",
      "FTA                     0.0\n",
      "FG3%                    NaN\n",
      "FG3A                    0.0\n",
      "FG%                     1.0\n",
      "FGA                     1.0\n",
      "MP                      1.0\n",
      "G                         1\n",
      "PER                    80.4\n",
      "OWS                     0.0\n",
      "DWS                     0.0\n",
      "WS                      0.0\n",
      "WS48                  1.261\n",
      "USG                    43.4\n",
      "BPM                     9.5\n",
      "VORP                    0.0\n",
      "PPG                     2.0\n",
      "Name: 405, dtype: object\n"
     ]
    }
   ],
   "source": [
    "most_efficient = nba.loc[nba['PER'].idxmax()]\n",
    "\n",
    "print(f\"The player with the highest Player Efficiency Rating is {most_efficient}\")"
   ]
  },
  {
   "cell_type": "markdown",
   "metadata": {},
   "source": [
    "# What team had the youngest roster?"
   ]
  },
  {
   "cell_type": "code",
   "execution_count": 12,
   "metadata": {},
   "outputs": [
    {
     "name": "stdout",
     "output_type": "stream",
     "text": [
      "The team with the youngest roster is Chicago Bulls\n"
     ]
    }
   ],
   "source": [
    "team_age = nba.groupby('Team')['Age'].mean()\n",
    "\n",
    "youngest_team = team_age.idxmin()\n",
    "\n",
    "print(f\"The team with the youngest roster is {youngest_team}\")"
   ]
  },
  {
   "cell_type": "markdown",
   "metadata": {},
   "source": [
    "# Who is the highest paid player during the seasion?"
   ]
  },
  {
   "cell_type": "code",
   "execution_count": 15,
   "metadata": {},
   "outputs": [
    {
     "name": "stdout",
     "output_type": "stream",
     "text": [
      "The highest paid player is Name                Stephen Curry\n",
      "Height                         75\n",
      "Weight                        190\n",
      "Team        Golden State Warriors\n",
      "Age                            30\n",
      "Salary                 37457154.0\n",
      "Points                       27.3\n",
      "Blocks                        0.4\n",
      "Steals                        1.3\n",
      "Assists                       5.2\n",
      "Rebounds                      5.3\n",
      "FT%                         0.916\n",
      "FTA                           4.2\n",
      "FG3%                        0.437\n",
      "FG3A                         11.7\n",
      "FG%                         0.472\n",
      "FGA                          19.4\n",
      "MP                           33.8\n",
      "G                              69\n",
      "PER                          24.4\n",
      "OWS                           7.2\n",
      "DWS                           2.5\n",
      "WS                            9.7\n",
      "WS48                        0.199\n",
      "USG                          30.4\n",
      "BPM                           6.3\n",
      "VORP                          4.9\n",
      "PPG                      0.395652\n",
      "Name: 121, dtype: object\n"
     ]
    }
   ],
   "source": [
    "nba['Salary'] = pd.to_numeric(nba['Salary'], errors='coerce')\n",
    "\n",
    "\n",
    "nba = nba.dropna(subset=['Salary'])\n",
    "\n",
    "\n",
    "highest_paid = nba.loc[nba['Salary'].idxmax()]\n",
    "\n",
    "print(f\"The highest paid player is {highest_paid}\")\n"
   ]
  },
  {
   "cell_type": "markdown",
   "metadata": {},
   "source": [
    "# At the end of a game, who WOULDN'T you want on the Free Throw Line?"
   ]
  },
  {
   "cell_type": "code",
   "execution_count": 16,
   "metadata": {},
   "outputs": [
    {
     "name": "stdout",
     "output_type": "stream",
     "text": [
      "The player with the worst free throw percentage is Jacob Evans with FT%: 0.0\n"
     ]
    }
   ],
   "source": [
    "nba['FT%'] = pd.to_numeric(nba['FT%'], errors='coerce')\n",
    "\n",
    "nba = nba.dropna(subset=['FT%'])\n",
    "\n",
    "worst_free_throw_player = nba.loc[nba['FT%'].idxmin()]\n",
    "\n",
    "print(f\"The player with the worst free throw percentage is {worst_free_throw_player['Name']} with FT%: {worst_free_throw_player['FT%']}\")\n"
   ]
  }
 ],
 "metadata": {
  "kernelspec": {
   "display_name": "Python 3 (ipykernel)",
   "language": "python",
   "name": "python3"
  },
  "language_info": {
   "codemirror_mode": {
    "name": "ipython",
    "version": 3
   },
   "file_extension": ".py",
   "mimetype": "text/x-python",
   "name": "python",
   "nbconvert_exporter": "python",
   "pygments_lexer": "ipython3",
   "version": "3.11.4"
  }
 },
 "nbformat": 4,
 "nbformat_minor": 2
}
